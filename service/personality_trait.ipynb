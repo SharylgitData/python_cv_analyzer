{
 "cells": [
  {
   "cell_type": "markdown",
   "metadata": {},
   "source": [
    "1.REad Resume"
   ]
  },
  {
   "cell_type": "code",
   "execution_count": 17,
   "metadata": {},
   "outputs": [],
   "source": [
    "import PyPDF2"
   ]
  },
  {
   "cell_type": "code",
   "execution_count": 18,
   "metadata": {},
   "outputs": [],
   "source": [
    "resume_file_path = \"../Shabana___Resume.pdf\"\n",
    "filehandle =open(resume_file_path, 'rb')"
   ]
  },
  {
   "cell_type": "code",
   "execution_count": null,
   "metadata": {},
   "outputs": [],
   "source": [
    "pdfReader =PyPDF2.PdfReader(filehandle)\n",
    "pageHandle = pdfReader.pages[0]  \n",
    "text = pageHandle.extract_text()\n",
    "text= text.replace('o','') #to get rid of  dots \n",
    "text=text.replace('|','') #to get rid of  bars "
   ]
  },
  {
   "cell_type": "code",
   "execution_count": 22,
   "metadata": {},
   "outputs": [
    {
     "data": {
      "text/plain": [
       "'SHABANA\\n \\nSHEIKH\\n \\nshabanaismail.sheikh@dcmail.ca\\n \\n\\n \\n226-219-9137\\n \\n\\n \\nLinkedIn\\n \\n\\n \\nOshawa,\\n \\nON\\n \\n\\n \\nReady\\n \\nt\\n \\nRelcate\\n \\n \\nAccmplished\\n \\nIT\\n \\ncnsultant\\n \\nwith\\n \\n7\\n \\nyears\\n \\nf\\n \\nexperience\\n \\nat\\n \\nEY\\n \\nand\\n \\nTata\\n \\nCnsultancy\\n \\nServices,\\n \\nspecializing\\n \\nin\\n \\nJava\\n \\n8+,\\n \\nSpring\\n \\nBt,\\n \\nand\\n \\nPythn.\\n \\nSkilled\\n \\nin\\n \\ndata\\n \\nintegratin\\n \\nand\\n \\nanalytics\\n \\nwithin\\n \\nbanking.\\n \\nAs\\n \\na\\n \\nstudent\\n \\nat\\n \\nDurham\\n \\nCllege,\\n \\nI\\n \\nam\\n \\nactively\\n \\nseeking\\n \\na\\n \\nc-p\\n \\npsitin\\n \\nt\\n \\nleverage\\n \\nmy\\n \\ntechnical\\n \\nexpertise.\\n \\n \\n \\nSKILLS\\n  \\n●\\n \\nPrgramming\\n \\nLanguages:\\n \\nJava\\n \\n8,\\n \\nPythn,\\n \\nSQL.\\n \\n●\\n \\nTls\\n \\n&\\n \\nPlatfrms:\\n \\nIntelliJ,\\n \\nGgle\\n \\nClab,\\n \\nTableau,\\n \\nJupyter\\n \\nNtebk,\\n \\nVisual\\n \\nStudi\\n \\n●\\n \\nAI/ML\\n \\nExpertise:\\n \\nRAG,\\n \\nLLM,\\n \\nML\\n \\nalgrithms\\n \\n●\\n \\nWeb\\n \\nTechnlgies:\\n \\nRESTful\\n \\nWeb\\n \\nServices,\\n \\nJSP-Servlet,\\n \\nHTML,\\n \\nBtstrap,\\n \\nCSS,\\n \\nJQuery ,\\n \\nAngularJS,\\n \\nreact.js.\\n \\n●\\n \\nClud\\n \\nServices:\\n \\nAWS\\n \\n(Amazn\\n \\nWeb\\n \\nServices).\\n \\n●\\n \\nDatabases:\\n \\nDB2,\\n \\nRelatinal\\n \\nDatabase\\n \\n(SQL),\\n \\nPstgres,\\n \\nMysql.\\n \\n●\\n \\nFramewrks\\n \\nand\\n \\nLibraries:\\n \\nSpring\\n \\nBt,\\n \\nSpring\\n \\nFramewrk,\\n \\nJava\\n \\nPersistence\\n \\nAPI\\n \\n(JPA),\\n \\nHibernate,\\n \\nStruts2.\\n \\n●\\n \\nDevOps\\n \\nand\\n \\nCI/CD\\n \\nTls:\\n \\nGit\\n \\n(Git\\n \\nBash,\\n \\nGitHub),\\n \\nJacc,\\n \\nAutsys.\\n \\n●\\n \\nMnitring\\n \\nand\\n \\nLggin:\\n \\nSplunk.\\n \\n●\\n \\nMicrservices\\n \\nand\\n \\nDistributed\\n \\nSystems:\\n \\nMicrservices\\n \\nArchitecture.\\n \\n●\\n \\nTesting\\n \\nFramewrks:\\n \\nMckit,\\n \\nJunit,\\n \\nJunit5.\\n \\n \\nEDUCA TION\\n \\n \\nAI\\n \\nAnalysis,\\n \\nDesign\\n \\n&\\n \\nImplementatin\\n \\n(Graduate\\n \\nCertificate)\\n,\\n \\nDurham\\n \\nCllege\\n      \\nExpected\\n \\n2025\\n \\n●\\n \\nAccepted\\n \\nint\\n \\nwrk\\n \\nterm\\n \\nptin\\n \\n \\n \\n \\n \\n \\n \\n \\n \\nACADEMIC\\n \\nPROJECTS\\n \\n \\n \\nData\\n \\nVisualizatin\\n \\n●\\n \\nDevelped\\n \\ninsights\\n \\nfrm\\n \\ndatasets\\n \\nby\\n \\ncrafting\\n \\nvisual\\n \\nrepresentatins\\n \\nwith\\n \\nTableau;\\n \\nshwcased\\n  \\nability\\n \\nt\\n \\ntransfrm\\n \\nraw\\n \\ndata\\n \\nint\\n \\ninteractive\\n \\ndashbards\\n \\nand\\n \\nmeaningful\\n \\nvisual\\n \\nstries.\\n \\nView\\n \\nthe\\n \\nprject\\n \\nn\\n \\nGitHub\\n.\\n \\n \\n \\n \\nLarge\\n \\nLanguage\\n \\nMdel\\n \\n●\\n \\nEngineered\\n \\nthe\\n \\nGemma\\n \\nand\\n \\nLlama\\n \\nmdels\\n \\nusing\\n \\nOllama\\n \\nt\\n \\nrespnd\\n \\nt\\n \\nuser\\n \\nenquiries\\n \\nbased\\n \\nn\\n \\ndcuments,\\n \\nhighlighting\\n \\nskills\\n \\nin\\n \\nbuilding\\n \\nand\\n \\ndeplying\\n \\nLLM\\n \\nsystems.\\n \\nExplre\\n \\nthe\\n \\nprject\\n \\nn\\n \\nGitHub\\n.\\n \\n \\n \\n \\nClient\\n \\n&\\n \\nServer\\n \\nInteractin\\n \\n●\\n \\nCnstructed\\n \\nbinary\\n \\nclassificatin\\n \\nmdels\\n \\nand\\n \\nfacilitated\\n \\nclient-server\\n \\ninteractins\\n \\nusing\\n \\nFastAPI,\\n \\ndemnstrating\\n \\nprficiency\\n \\nin\\n \\ndevelping\\n \\nscalable\\n \\nmachine\\n \\nlearning\\n \\nmdels\\n \\nand\\n \\nintegrating\\n \\nthem\\n \\nint\\n \\nweb\\n \\nservices.\\nCheckut\\n \\nthe\\n \\nprject\\n \\nn\\n \\nGitHub\\n.\\n \\n \\n●\\n \\nDevelping\\n \\na\\n \\nJbBank\\n \\nwebsite\\n \\nusing\\n \\na\\n \\nmicrservices\\n \\narchitecture,\\n \\nleveraging\\n \\nReact.js\\n \\nfr\\n \\nthe\\n \\nfrntend,\\n \\nJava\\n \\nSpring\\n \\nBt\\n \\nas\\n \\nthe\\n \\nbackend\\n \\nservice\\n \\nlayer\\n \\nfr\\n \\nhandling\\n \\nbusiness\\n \\nlgic\\n \\nand\\n \\nAPI\\n \\ninteractins,\\n \\nPstgreSQL\\n \\nas\\n \\nthe\\n \\ndatabase\\n \\nfr\\n \\nefficient\\n \\ndata\\n \\nstrage\\n \\nand\\n \\nretrieval,\\n \\nand\\n \\nPythn-based\\n \\nmdels\\n \\nfr\\n \\nresume\\n \\nranking.\\n \\n \\n \\nCmputer\\n \\nScience\\n \\n–\\n \\nMaster ’s\\n \\nDegr ee\\n,\\n \\n \\nSastra\\n \\nUniversity\\n \\n \\n                                                         \\n2021\\n \\n \\n \\nCmputer\\n \\nScience\\n \\n–\\n \\nBachelr ’s\\n \\nDegr ee\\n,\\n \\nRamniranjan\\n \\nJhunjhunwala\\n                                            \\n2017\\n '"
      ]
     },
     "execution_count": 22,
     "metadata": {},
     "output_type": "execute_result"
    }
   ],
   "source": [
    "text"
   ]
  },
  {
   "cell_type": "markdown",
   "metadata": {},
   "source": [
    "2. Import and authenticate to service"
   ]
  },
  {
   "cell_type": "code",
   "execution_count": 23,
   "metadata": {},
   "outputs": [
    {
     "ename": "ModuleNotFoundError",
     "evalue": "No module named 'ibm_watson'",
     "output_type": "error",
     "traceback": [
      "\u001b[0;31m---------------------------------------------------------------------------\u001b[0m",
      "\u001b[0;31mModuleNotFoundError\u001b[0m                       Traceback (most recent call last)",
      "Cell \u001b[0;32mIn[23], line 1\u001b[0m\n\u001b[0;32m----> 1\u001b[0m \u001b[38;5;28;01mfrom\u001b[39;00m\u001b[38;5;250m \u001b[39m\u001b[38;5;21;01mibm_watson\u001b[39;00m\u001b[38;5;250m \u001b[39m\u001b[38;5;28;01mimport\u001b[39;00m PersonalityInsightsV3\n\u001b[1;32m      2\u001b[0m \u001b[38;5;28;01mfrom\u001b[39;00m\u001b[38;5;250m \u001b[39m\u001b[38;5;21;01mibm_cloud_sdk_core\u001b[39;00m\u001b[38;5;21;01m.\u001b[39;00m\u001b[38;5;21;01mauthenticators\u001b[39;00m\u001b[38;5;250m \u001b[39m\u001b[38;5;28;01mimport\u001b[39;00m IAMAuthenticator\n",
      "\u001b[0;31mModuleNotFoundError\u001b[0m: No module named 'ibm_watson'"
     ]
    }
   ],
   "source": [
    "from ibm_watson import PersonalityInsightsV3\n",
    "from ibm_cloud_sdk_core.authenticators import IAMAuthenticator"
   ]
  },
  {
   "cell_type": "code",
   "execution_count": null,
   "metadata": {},
   "outputs": [],
   "source": [
    "apikey= ''\n",
    "url=''"
   ]
  }
 ],
 "metadata": {
  "kernelspec": {
   "display_name": ".venv",
   "language": "python",
   "name": "python3"
  },
  "language_info": {
   "codemirror_mode": {
    "name": "ipython",
    "version": 3
   },
   "file_extension": ".py",
   "mimetype": "text/x-python",
   "name": "python",
   "nbconvert_exporter": "python",
   "pygments_lexer": "ipython3",
   "version": "3.9.6"
  }
 },
 "nbformat": 4,
 "nbformat_minor": 2
}

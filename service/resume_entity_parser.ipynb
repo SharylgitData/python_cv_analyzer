{
 "cells": [
  {
   "cell_type": "code",
   "execution_count": 4,
   "metadata": {},
   "outputs": [
    {
     "name": "stdout",
     "output_type": "stream",
     "text": [
      "File 'converted_data.txt' created successfully!\n"
     ]
    }
   ],
   "source": [
    "import json\n",
    "\n",
    "with open(\"train_data.json\", \"r\", encoding=\"utf-8\") as f:\n",
    "    data = json.load(f)\n",
    "\n",
    "# We'll build one Python list named train_data\n",
    "train_data_list = []\n",
    "\n",
    "for entry in data:\n",
    "    text = entry[0]\n",
    "    entities = entry[1][\"entities\"]\n",
    "    # Each item is a tuple: ( \"text\", {\"entities\": [ (start, end, label), ... ]} )\n",
    "    train_data_list.append((text, {\"entities\": entities}))\n",
    "\n",
    "# Write out the list to a text file in a Python-like format\n",
    "with open(\"converted_data.txt\", \"w\", encoding=\"utf-8\") as out_file:\n",
    "    out_file.write(\"train_data = [\\n\")\n",
    "    for item in train_data_list:\n",
    "        text_str = item[0]\n",
    "        ents_str = item[1][\"entities\"]\n",
    "        # Format each entry so it ends with ...)]})\n",
    "        # i.e. (\"some text\", {\"entities\": [(start, end, \"Label\"), ...]})\n",
    "        line = f'(\"{text_str}\", {{\"entities\": {ents_str}}}),'\n",
    "        out_file.write(f\"    {line}\\n\")\n",
    "    out_file.write(\"]\\n\")\n",
    "\n",
    "print(\"File 'converted_data.txt' created successfully!\")\n"
   ]
  },
  {
   "cell_type": "code",
   "execution_count": null,
   "metadata": {},
   "outputs": [],
   "source": []
  }
 ],
 "metadata": {
  "kernelspec": {
   "display_name": ".venv",
   "language": "python",
   "name": "python3"
  },
  "language_info": {
   "codemirror_mode": {
    "name": "ipython",
    "version": 3
   },
   "file_extension": ".py",
   "mimetype": "text/x-python",
   "name": "python",
   "nbconvert_exporter": "python",
   "pygments_lexer": "ipython3",
   "version": "3.9.6"
  }
 },
 "nbformat": 4,
 "nbformat_minor": 2
}
